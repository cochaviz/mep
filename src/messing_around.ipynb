{
 "cells": [
  {
   "cell_type": "markdown",
   "metadata": {},
   "source": [
    "# Messing Around - Experiments and other Shenanigans"
   ]
  },
  {
   "cell_type": "markdown",
   "metadata": {},
   "source": [
    "## Reproducing the _Spread_ metric introduced by Zhao at al. (2022)\n",
    "\n",
    "I know they're using the model _SimCSE with RoBERTa-large base_ which is just\n",
    "available on GitHub and Huggingface Transformers. The most annoying thing right\n",
    "now is to determine what is meant with the following sentence:\n",
    "\n",
    "> For some input $z = (x, y) \\in D$, let $f(z)$ denote the vector valued\n",
    "> features of the input x produced by the model.\n",
    "\n",
    "What are the _vector-valued features_? Currently, I think these represent the\n",
    "`embeddings` as used in the following code snippet given in the [example\n",
    "tutorial](https://github.com/princeton-nlp/SimCSE) of the SimCSE BERT model:"
   ]
  },
  {
   "cell_type": "code",
   "execution_count": 4,
   "metadata": {},
   "outputs": [
    {
     "name": "stdout",
     "output_type": "stream",
     "text": [
      "Cosine similarity between \"There's a kid on a skateboard.\" and \"A child is skateboarding.\" is: 0.933\n",
      "Cosine similarity between \"There's a kid on a skateboard.\" and \"A child resides inside the house.\" is: 0.367\n"
     ]
    }
   ],
   "source": [
    "import torch\n",
    "from scipy.spatial.distance import cosine\n",
    "from transformers import AutoModel, AutoTokenizer\n",
    "\n",
    "# Import our models. The package will take care of downloading the models automatically\n",
    "tokenizer = AutoTokenizer.from_pretrained(\"princeton-nlp/sup-simcse-bert-base-uncased\")\n",
    "model = AutoModel.from_pretrained(\"princeton-nlp/sup-simcse-bert-base-uncased\")\n",
    "\n",
    "# Tokenize input texts\n",
    "texts = [\n",
    "    \"There's a kid on a skateboard.\",\n",
    "    \"A child is skateboarding.\",\n",
    "    \"A child resides inside the house.\"\n",
    "]\n",
    "inputs = tokenizer(texts, padding=True, truncation=True, return_tensors=\"pt\")\n",
    "\n",
    "# Get the embeddings\n",
    "with torch.no_grad():\n",
    "    embeddings = model(**inputs, output_hidden_states=True, return_dict=True).pooler_output\n",
    "\n",
    "# Calculate cosine similarities\n",
    "# Cosine similarities are in [-1, 1]. Higher means more similar\n",
    "cosine_sim_0_1 = 1 - cosine(embeddings[0], embeddings[1])\n",
    "cosine_sim_0_2 = 1 - cosine(embeddings[0], embeddings[2])\n",
    "\n",
    "print(\"Cosine similarity between \\\"%s\\\" and \\\"%s\\\" is: %.3f\" % (texts[0], texts[1], cosine_sim_0_1))\n",
    "print(\"Cosine similarity between \\\"%s\\\" and \\\"%s\\\" is: %.3f\" % (texts[0], texts[2], cosine_sim_0_2))"
   ]
  },
  {
   "cell_type": "markdown",
   "metadata": {},
   "source": [
    "The `pooler_output` seems to refer to the value of the classification token, `[CLS]`, in\n",
    "the BERT-type model. I wasn't sure why this output is particularly important\n",
    "because it resides as the beginning of the sentence, but given that bert is an\n",
    "_encoder only_ network this makes sense now: while typical _decoder only_\n",
    "transformers only look back, encoders look back as well as ahead. The final\n",
    "result of the classification task of the BERT model thus resides in the first\n",
    "token before the classified sentence, the `[CLS]` token."
   ]
  },
  {
   "cell_type": "markdown",
   "metadata": {},
   "source": [
    "If it is the case that these values are used instead of the tokenizer embeddings\n",
    "as I first thought, that means the method is more specific to this particular\n",
    "model architecture than I would like. Still, in the [`transformers`\n",
    "documentation](https://huggingface.co/docs/transformers/main_classes/output#transformers.modeling_outputs.BaseModelOutputWithPooling.pooler_output)\n",
    "it seems like this is not only a feature of BERT models, so it should probably\n",
    "be fine. I do need to try this out with a different model type tho. "
   ]
  },
  {
   "cell_type": "markdown",
   "metadata": {},
   "source": [
    "After fiddling for a bit, I've concluded the following. While the\n",
    "`pooler_output` is not unique to BERT models, it does not seem like the value\n",
    "necessary for the distance in the paper. It is a single vector while they are\n",
    "talking about multiple features, each of which is a vector. Therefore, we expect\n",
    "to take some matrix norm (since the output of $f(z)$ would then be a matrix).\n",
    "Here is my attempt at reconstructing the method they seem to have used in the\n",
    "paper."
   ]
  },
  {
   "cell_type": "code",
   "execution_count": 51,
   "metadata": {},
   "outputs": [
    {
     "name": "stdout",
     "output_type": "stream",
     "text": [
      "Distance between \"There's a kid on a skateboard.\" and \"A child is skateboarding.\" is: 4.552\n",
      "Distance between \"There's a kid on a skateboard.\" and \"A child resides inside the house.\" is: 3.318\n"
     ]
    }
   ],
   "source": [
    "import torch\n",
    "from scipy.spatial.distance import cosine\n",
    "from transformers import AutoModel, AutoTokenizer\n",
    "\n",
    "# Import our models. The package will take care of downloading the models\n",
    "# automatically. NOTE: don't use seq2seq.. they're really annoying.\n",
    "tokenizer = AutoTokenizer.from_pretrained(\"sshleifer/tiny-gpt2\")\n",
    "model = AutoModel.from_pretrained(\"sshleifer/tiny-gpt2\")\n",
    "\n",
    "# Tokenize input texts\n",
    "texts = [\n",
    "    \"There's a kid on a skateboard.\",\n",
    "    \"A child is skateboarding.\",\n",
    "    \"A child resides inside the house.\"\n",
    "]\n",
    "tokenizer.pad_token = \" \" # NOTE: I don't know whether this is legit\n",
    "inputs = tokenizer(texts, padding=True, truncation=True, return_tensors=\"pt\")\n",
    "\n",
    "# Get the embeddings\n",
    "with torch.no_grad():\n",
    "    embeddings: torch.Tensor = model(**inputs, output_hidden_states=True, return_dict=True).last_hidden_state\n",
    "\n",
    "# Calculate distance as defined in the paper\n",
    "distance_0_1 = (embeddings[0] - embeddings[1]).norm()\n",
    "distance_0_2 = (embeddings[0] - embeddings[2]).norm()\n",
    "\n",
    "print(\"Distance between \\\"%s\\\" and \\\"%s\\\" is: %.3f\" % (texts[0], texts[1], distance_0_1))\n",
    "print(\"Distance between \\\"%s\\\" and \\\"%s\\\" is: %.3f\" % (texts[0], texts[2], distance_0_2))"
   ]
  },
  {
   "cell_type": "markdown",
   "metadata": {},
   "source": [
    "While this is not an equivalent to the method shown before (no cosine\n",
    "similarity), this seems like a reasonable substitute for it and I don't find it\n",
    "unreasonable to imageine that the authors would have gone through similar steps. "
   ]
  },
  {
   "cell_type": "markdown",
   "metadata": {},
   "source": [
    "### Detour: Token Embeddings\n",
    "\n",
    "One thing I am curious about to see how much the upper method compares to simply\n",
    "using the embeddings generated by the tokenizer. Let's see!"
   ]
  },
  {
   "cell_type": "code",
   "execution_count": 48,
   "metadata": {},
   "outputs": [
    {
     "name": "stdout",
     "output_type": "stream",
     "text": [
      "Distance between \"There's a kid on a skateboard.\" and \"A child is skateboarding.\" is: 80844.202\n",
      "Distance between \"There's a kid on a skateboard.\" and \"A child resides inside the house.\" is: 77876.963\n"
     ]
    }
   ],
   "source": [
    "import torch\n",
    "from scipy.spatial.distance import cosine\n",
    "from transformers import AutoModel, AutoTokenizer\n",
    "\n",
    "# Import our models. The package will take care of downloading the models\n",
    "# automatically. NOTE: don't use seq2seq.. they're really annoying.\n",
    "tokenizer = AutoTokenizer.from_pretrained(\"sshleifer/tiny-gpt2\")\n",
    "model = AutoModel.from_pretrained(\"sshleifer/tiny-gpt2\")\n",
    "\n",
    "# Tokenize input texts\n",
    "texts = [\n",
    "    \"There's a kid on a skateboard.\",\n",
    "    \"A child is skateboarding.\",\n",
    "    \"A child resides inside the house.\"\n",
    "]\n",
    "tokenizer.pad_token = \" \" # NOTE: I don't know whether this is legit\n",
    "inputs = tokenizer(texts, padding=True, truncation=True, return_tensors=\"pt\").input_ids\n",
    "\n",
    "# Calculate distance as defined in the paper\n",
    "distance_0_1 = (inputs[0] - inputs[1]).double().norm()\n",
    "distance_0_2 = (inputs[0] - inputs[2]).double().norm()\n",
    "\n",
    "print(\"Distance between \\\"%s\\\" and \\\"%s\\\" is: %.3f\" % (texts[0], texts[1], distance_0_1))\n",
    "print(\"Distance between \\\"%s\\\" and \\\"%s\\\" is: %.3f\" % (texts[0], texts[2], distance_0_2))"
   ]
  },
  {
   "cell_type": "markdown",
   "metadata": {},
   "source": [
    "Ah yes, no, absolutely not..."
   ]
  },
  {
   "cell_type": "markdown",
   "metadata": {},
   "source": [
    "### Detour: Padding Matters\n",
    "\n",
    "One thing I do notice is that, when considering the distance, the padding used\n",
    "to make a single batch matters quite a bit. I guess this wasn't an issue before,\n",
    "but the `tiny-gpt` model doesn't have a built-in padding token. I can iterate\n",
    "over all the different ascii characters and see what their impact is on the distance."
   ]
  },
  {
   "cell_type": "code",
   "execution_count": 79,
   "metadata": {},
   "outputs": [
    {
     "name": "stdout",
     "output_type": "stream",
     "text": [
      "Spread in difference between two sentences: \n",
      "  1. \"There's a kid on a skateboard.\"\n",
      "  2. \"A child is skateboarding.\"\n"
     ]
    },
    {
     "data": {
      "image/png": "[encoded data removed]",
      "text/plain": [
       "<Figure size 640x480 with 1 Axes>"
      ]
     },
     "metadata": {},
     "output_type": "display_data"
    }
   ],
   "source": [
    "def get_diff_with_padding(padding=\" \"):\n",
    "    tokenizer.pad_token = padding\n",
    "    inputs = tokenizer(texts, padding=True, truncation=True, return_tensors=\"pt\")\n",
    "\n",
    "    with torch.no_grad():\n",
    "        embeddings: torch.Tensor = model(**inputs, output_hidden_states=True, return_dict=True).last_hidden_state\n",
    "\n",
    "    # Calculate distance as defined in the paper\n",
    "    distance_0_1 = (embeddings[0] - embeddings[1]).norm().item()\n",
    "    distance_0_2 = (embeddings[0] - embeddings[2]).norm().item()\n",
    "\n",
    "    return abs(distance_0_1 - distance_0_2)\n",
    "\n",
    "import pandas as pd\n",
    "import seaborn as sns\n",
    "import string\n",
    "\n",
    "results = pd.DataFrame({ \"char\" : list(string.printable) })\n",
    "results.insert(0, column=\"diff\", value=results[\"char\"].map(get_diff_with_padding))\n",
    "results = results.sort_values(by=\"diff\")\n",
    "\n",
    "_ = sns.boxplot(results, y=\"diff\")\n",
    "\n",
    "print(f\"Spread in difference between two sentences: \\n  1. \\\"{texts[0]}\\\"\\n  2. \\\"{texts[1]}\\\"\")"
   ]
  },
  {
   "cell_type": "markdown",
   "metadata": {},
   "source": [
    "Given that the average distance of these two sentences are around 1.2, a spread\n",
    "of .5 does not seem insignificant. Does this matter? Maybe not, but it is\n",
    "strange. If I would like this to be compatible with various models I should\n",
    "first figure out how this is generally dealt with."
   ]
  },
  {
   "cell_type": "markdown",
   "metadata": {},
   "source": [
    "### Reflection\n",
    "\n",
    "Now that we effectively have the _Spread_ measure (calculating it fully should\n",
    "not be a problem as we now have all the puzzle pieces), what is the next step?\n",
    "We could do a couple of things:\n",
    "\n",
    "- Compare this measure with that of the **HardenedMetaSet++** technique.\n",
    "- Show whether this has any value in terms of security\n",
    "- Continue working on reproducing the paper\n",
    "\n",
    "While I'm not sure which would be the most effective to work on, I think the\n",
    "second is the most important to the thesis itself. I'm aware of some stuff in\n",
    "the current paper that might be reason for concern, but I will let those be for\n",
    "now. Let's, for now, assume that the current measure is the end-all and be-all\n",
    "of few-shot dataset hardness."
   ]
  },
  {
   "cell_type": "markdown",
   "metadata": {},
   "source": [
    "## Working with GPTFuzzer by Yu et al. (2023)\n",
    "\n",
    "To that end, I would like to be able to run my own test using the method used in\n",
    "_GPTFuzzer_. The reason for this tool specifically, is because it generated new\n",
    "samples from old ones, specifically attacking the adaptability we are trying to\n",
    "establish. The tool seems really easy to work with and is fully available on\n",
    "github. It's slightly annoying that it's not available as a package, but this is\n",
    "my current workaround, maybe I'll submit a PR that makes it easier to interact\n",
    "with other code.\n",
    "\n",
    "I switched over to using conda environments because the paper uses this, and I\n",
    "think it's a good idea given the amount of packages I'll have to deal with.\n",
    "Furthermore, I'm working in a `devcontainer` which means that not all kernel\n",
    "features are (readily) available, so too for my NVidia GPU. I've followed [this\n",
    "stackoverflow\n",
    "thread](https://stackoverflow.com/questions/72129213/using-gpu-in-vs-code-container) \n",
    "to fix this."
   ]
  },
  {
   "cell_type": "code",
   "execution_count": null,
   "metadata": {},
   "outputs": [],
   "source": [
    "import os\n",
    "import sys\n",
    "\n",
    "assert os.environ['CONDA_DEFAULT_ENV'] == \"gptfuzz\"\n",
    "assert sys.version_info[:2] == (3, 8)\n",
    "\n",
    "%conda install pytorch torchvision torchaudio pytorch-cuda=12.1 -c pytorch -c nvidia\n",
    "%pip install fschat vllm openai termcolor openpyxl google-generativeai anthropic accelerate chardet pandas"
   ]
  },
  {
   "cell_type": "markdown",
   "metadata": {},
   "source": [
    "So it does work, but sadly you need credits on your OpenAI account to be able to\n",
    "run the thing... Not sure what the best next step is."
   ]
  },
  {
   "cell_type": "code",
   "execution_count": 1,
   "metadata": {},
   "outputs": [
    {
     "name": "stderr",
     "output_type": "stream",
     "text": [
      "[10:37:19] Fuzzing started!\n",
      "/opt/conda/envs/gptfuzz/lib/python3.8/site-packages/transformers/generation/configuration_utils.py:389: UserWarning: `do_sample` is set to `False`. However, `temperature` is set to `0.01` -- this flag is only used in sample-based generation modes. You should set `do_sample=True` or unset `temperature`.\n",
      "  warnings.warn(\n",
      "This is a friendly reminder - the current text generation call will exceed the model's predefined maximum length (1024). Depending on the model, you may observe exceptions, performance degradation, or nothing at all.\n",
      "[10:37:38] Fuzzing interrupted by user!\n",
      "[10:37:38] Fuzzing finished!\n"
     ]
    }
   ],
   "source": [
    "# This solves gptfuzz needing to be executed in the folder containing the\n",
    "# `gptfuzzer` folder. Python module resolution is something else...\n",
    "import sys\n",
    "sys.path.insert(1, './gptfuzz/')\n",
    "\n",
    "import gptfuzz\n",
    "import torch\n",
    "\n",
    "# first, empty cache... I don't have much memory :(\n",
    "torch.cuda.empty_cache()\n",
    "torch.cuda.memory._record_memory_history()\n",
    "\n",
    "# '--openai_key', type=str, default='', help='OpenAI API Key'\n",
    "# '--claude_key', type=str, default='', help='Claude API Key'\n",
    "# '--palm_key', type=str, default='', help='PaLM2 api key'\n",
    "# '--model_path', type=str, default='gpt-3.5-turbo', help='mutate model path'\n",
    "# '--target_model', type=str, default='meta-llama/Llama-2-7b-chat-hf', help='The target model, openai model or open-sourced LLMs'\n",
    "# '--max_query', type=int, default=1000, help='The maximum number of queries'\n",
    "# '--max_jailbreak', type=int, default=1, help='The maximum jailbreak number'\n",
    "# '--energy', type=int, default=1, help='The energy of the fuzzing process'\n",
    "# '--seed_selection_strategy', type=str, default='round_robin', help='The seed selection strategy'\n",
    "# '--max-new-tokens', type=int, default=512)\n",
    "# '--seed_path', type=str, default=\"datasets/prompts/GPTFuzzer.csv\"\n",
    "\n",
    "env = {}\n",
    "\n",
    "with open(\".env\", \"r\") as env_file:\n",
    "    for line in env_file.readlines():\n",
    "        key, value = line.split(\"=\")\n",
    "        env[key] = value\n",
    "\n",
    "class FuzzerArgs():\n",
    "    # the default model is gated, meaning you need permission to access it\n",
    "    # target_model =  \"meta-llama/Llama-2-7b-chat-hf\"\n",
    "    # target_model =  \"TinyLlama/TinyLlama-1.1B-Chat-v1.0\"\n",
    "    target_model = \"ahxt/LiteLlama-460M-1T\"\n",
    "    target_model_args = {\n",
    "        \"dtype\" : torch.float16\n",
    "    }\n",
    "    model_path = \"gpt-3.5-turbo\"\n",
    "    seed_path = \"gptfuzz/datasets/prompts/GPTFuzzer.csv\"\n",
    "    openai_key = env[\"OPENAIKEY\"]\n",
    "    energy = 1\n",
    "    max_jailbreak = 1\n",
    "    max_query = 1000\n",
    "\n",
    "try: \n",
    "    gptfuzz.main(FuzzerArgs())\n",
    "except torch.cuda.OutOfMemoryError:\n",
    "    print(\"Process crashed due to lack of memory resources...\")\n",
    "    torch.cuda.memory._dump_snapshot(\"gpu_usage.pickle\")\n",
    "finally:\n",
    "    torch.cuda.empty_cache()"
   ]
  },
  {
   "cell_type": "markdown",
   "metadata": {},
   "source": [
    "## Working with Red-Teaming"
   ]
  }
 ],
 "metadata": {
  "kernelspec": {
   "display_name": "Python 3",
   "language": "python",
   "name": "python3"
  },
  "language_info": {
   "codemirror_mode": {
    "name": "ipython",
    "version": 3
   },
   "file_extension": ".py",
   "mimetype": "text/x-python",
   "name": "python",
   "nbconvert_exporter": "python",
   "pygments_lexer": "ipython3",
   "version": "3.8.18"
  }
 },
 "nbformat": 4,
 "nbformat_minor": 2
}
