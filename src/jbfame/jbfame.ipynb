{
 "cells": [
  {
   "cell_type": "markdown",
   "metadata": {},
   "source": [
    "# Jail-Breaking by Failure-Mode\n",
    "\n",
    "In this notebook, will be attempting to construct a dataset of jailbreaking\n",
    "prompts that are categorized based on the failure modes as introduced by Wei et\n",
    "al. (2023). There are various approaches that we could take with regard to to\n",
    "this end. We could fine-tune a BeRT model to perform classification by providing\n",
    "a small set of manually labelled samples, or we could use specific prefabricated\n",
    "types of jailbreaking that belong to either category. I will use a combination\n",
    "of the two.\n",
    "\n",
    "Currently, resources from the following papers have been, or will be included:\n",
    "\n",
    "1. **Jailbroken by Wei et al. (2023)**: This paper makes use of various templates\n",
    "   for jailbreaking and uses ChatGPT to turn them in to actual prompts. This\n",
    "   method and the dataset of templates and questions was actually introduced by\n",
    "   Shen et al. (2023). _We will create adversarial examples using their\n",
    "   methodology and then classify them using a combination of manual labor and,\n",
    "   in classic AI-research fashion, LLM-provided assistance._\n",
    "\n",
    "2. **Universal and Transferable Adversarial Attacks on Aligned Language Models by\n",
    "   Zou et al (2023)**: ...\n",
    "\n",
    "3. "
   ]
  },
  {
   "cell_type": "markdown",
   "metadata": {},
   "source": [
    "## Preparing Environment"
   ]
  },
  {
   "cell_type": "code",
   "execution_count": 9,
   "metadata": {},
   "outputs": [
    {
     "name": "stdout",
     "output_type": "stream",
     "text": [
      "Not exposing Jupyter server.\n"
     ]
    },
    {
     "name": "stderr",
     "output_type": "stream",
     "text": [
      "<>:28: SyntaxWarning: invalid escape sequence '\\?'\n",
      "/tmp/ipykernel_37396/1845607708.py:28: SyntaxWarning: invalid escape sequence '\\?'\n",
      "  match = re.findall(\"\\?token=.*\", content)\n"
     ]
    }
   ],
   "source": [
    "async def expose_jupyter_server(expose=False):\n",
    "    \"\"\"\n",
    "    Expose Jupyter server running on Google Colab via ngrok. Not executed by\n",
    "    default to avoid exposing the server unintentionally. To expose the server,\n",
    "    set `expose` to `True` and call the function.\n",
    "    \"\"\"\n",
    "    if not expose:\n",
    "        print(\"Not exposing Jupyter server.\")\n",
    "        return\n",
    "    \n",
    "    try:\n",
    "        from google.colab import userdata\n",
    "        import re\n",
    "    except ImportError:\n",
    "        print(\"Not running on Google Colab! Not exposing Jupyter server.\")\n",
    "        return\n",
    "\n",
    "    # Install jupyterlab and ngrok\n",
    "    !pip install jupyterlab==2.2.9 ngrok -q\n",
    "\n",
    "    # Run jupyterlab in background\n",
    "    !nohup jupyter lab --no-browser --port=8888 --ip=0.0.0.0 &\n",
    "\n",
    "    with open(\"nohup.out\", \"r\") as file:\n",
    "        match = None\n",
    "        while not match:\n",
    "            content = file.read()\n",
    "            match = re.findall(\"\\?token=.*\", content)\n",
    "        token = match[-1]\n",
    "\n",
    "    # Make jupyterlab accessible via ngrok\n",
    "    import ngrok\n",
    "\n",
    "    listener = await ngrok.forward(\n",
    "        8888, \n",
    "        # domain=userdata.get('NGROKDOMAIN'), \n",
    "        authtoken=userdata.get(\"NGROKTOKEN\")\n",
    "    )\n",
    "    print(\"Connect to URL:\", listener.url() + token)\n",
    "\n",
    "await expose_jupyter_server()"
   ]
  },
  {
   "cell_type": "code",
   "execution_count": 6,
   "metadata": {},
   "outputs": [],
   "source": [
    "import os\n",
    "import sys\n",
    "\n",
    "def in_colab():\n",
    "    return \"google.colab\" in sys.modules\n",
    "\n",
    "# conda is required by default because we\n",
    "# can avoid clashing packages. Please use\n",
    "# a new environment for this project with\n",
    "# python 3.8. Exception is google colab\n",
    "# since it doesn't run with anything but\n",
    "# the default conda environment.\n",
    "if not in_colab():\n",
    "    assert os.environ[\"CONDA_DEFAULT_ENV\"] == \"jbfame\"\n",
    "    assert sys.version_info[:2] == (3, 12)\n",
    "\n",
    "rng_seed = 42"
   ]
  },
  {
   "cell_type": "code",
   "execution_count": 7,
   "metadata": {},
   "outputs": [],
   "source": [
    "import sys\n",
    "import shutil\n",
    "\n",
    "def has_conda():\n",
    "    return shutil.which(\"conda\") is not None\n",
    "\n",
    "def install_conda():\n",
    "    !pip install -q condacolab\n",
    "    import condacolab\n",
    "    condacolab.install()\n",
    "\n",
    "if not has_conda():\n",
    "    if \"google.colab\" in sys.modules:\n",
    "        install_conda()\n",
    "    else:\n",
    "        raise RuntimeError(\"\"\"\n",
    "            Conda not found, and cannot be automatically installed unless\n",
    "            in a Google Colab environment. Please install conda or launch\n",
    "            in Google Colab.\n",
    "        \"\"\")"
   ]
  },
  {
   "cell_type": "code",
   "execution_count": 35,
   "metadata": {},
   "outputs": [
    {
     "name": "stdout",
     "output_type": "stream",
     "text": [
      " _________________________________________ \n",
      "/ I cannot draw a cart, nor eat dried     \\\n",
      "\\ oats; If it be man's work I will do it. /\n",
      " ----------------------------------------- \n",
      "        \\   ^__^\n",
      "         \\  (oo)\\_______\n",
      "            (__)\\       )\\/\\\n",
      "                ||----w |\n",
      "                ||     ||\n"
     ]
    }
   ],
   "source": [
    "!pip install -q transformers pandas pyarrow torch"
   ]
  },
  {
   "cell_type": "markdown",
   "metadata": {},
   "source": [
    "## Setting Up the Datasets"
   ]
  },
  {
   "cell_type": "markdown",
   "metadata": {},
   "source": [
    "### Do Anything Now"
   ]
  },
  {
   "cell_type": "code",
   "execution_count": 34,
   "metadata": {},
   "outputs": [],
   "source": [
    "import os\n",
    "\n",
    "import pandas as pd\n",
    "import numpy as np\n",
    "import transformers"
   ]
  },
  {
   "cell_type": "code",
   "execution_count": 3,
   "metadata": {},
   "outputs": [
    {
     "name": "stdout",
     "output_type": "stream",
     "text": [
      " _________________________________________ \n",
      "/ -- Neophyte's serendipity. -- Exclusive \\\n",
      "| dedication to necessitous chores        |\n",
      "| without interludes of                   |\n",
      "|                                         |\n",
      "| hedonistic diversion renders John a     |\n",
      "| hebetudinous fellow. -- A revolving     |\n",
      "| concretion of earthy or mineral matter  |\n",
      "| accumulates no                          |\n",
      "|                                         |\n",
      "| congeries of small, green bryophytic    |\n",
      "| plant. -- The person presenting the     |\n",
      "| ultimate cachinnation possesses thereby |\n",
      "| the                                     |\n",
      "|                                         |\n",
      "| optimal cachinnation. -- Abstention     |\n",
      "| from any aleatory undertaking precludes |\n",
      "| a potential                             |\n",
      "|                                         |\n",
      "| escalation of a lucrative nature. --    |\n",
      "| Missiles of ligneous or osteal          |\n",
      "| consistency have the potential of       |\n",
      "|                                         |\n",
      "| fracturing osseous structure, but       |\n",
      "| appellations will eternally             |\n",
      "|                                         |\n",
      "\\ remain innocuous.                       /\n",
      " ----------------------------------------- \n",
      "        \\   ^__^\n",
      "         \\  (oo)\\_______\n",
      "            (__)\\       )\\/\\\n",
      "                ||----w |\n",
      "                ||     ||\n",
      "fatal: destination path 'data' already exists and is not an empty directory.\n"
     ]
    }
   ],
   "source": [
    "!bash setup.sh"
   ]
  },
  {
   "cell_type": "code",
   "execution_count": 4,
   "metadata": {},
   "outputs": [],
   "source": [
    "data_dir = \"data\" \n",
    "\n",
    "templates = pd.read_csv(os.path.join(data_dir, \"jailbreak_prompts.csv\"))\n",
    "prompts_harmful = pd.read_csv(os.path.join(data_dir, \"questions.csv\"))\n",
    "prompts_harmless = pd.read_csv(os.path.join(data_dir, \"regular_prompts.csv\"))"
   ]
  },
  {
   "cell_type": "markdown",
   "metadata": {},
   "source": [
    "#### Manual Labeling\n",
    "\n",
    "As mentioned before, we will first manually label part of the data to see how\n",
    "well an LLM would fare at this task. The following function allows someone to do\n",
    "this while saving changes and avoiding repetition if a part is already labeled.\n",
    "\n",
    "I have opted to have 4 classes that include each of the failure modes, a class in\n",
    "which both are used, and one in which neither are. The file to run the manual\n",
    "labeling can be found under as `labellor.py`. Use the package `rich` in case\n",
    "you'd like a nicer experience."
   ]
  },
  {
   "cell_type": "code",
   "execution_count": 33,
   "metadata": {},
   "outputs": [
    {
     "name": "stdout",
     "output_type": "stream",
     "text": [
      " ________________________________ \n",
      "/ \"Open Channel D...\"            \\\n",
      "|                                |\n",
      "| -- Napoleon Solo, The Man From |\n",
      "\\ U.N.C.L.E.                     /\n",
      " -------------------------------- \n",
      "        \\   ^__^\n",
      "         \\  (oo)\\_______\n",
      "            (__)\\       )\\/\\\n",
      "                ||----w |\n",
      "                ||     ||\n",
      "\u001b[1m                                                                                \u001b[0m\n",
      "\u001b[1m \u001b[0m\u001b[1;33mUsage: \u001b[0m\u001b[1mlabellor.py [OPTIONS]\u001b[0m\u001b[1m                                                  \u001b[0m\u001b[1m \u001b[0m\n",
      "\u001b[1m                                                                                \u001b[0m\n",
      " CLI for labeling the failure modes of the prompts. Use the package `rich` for  \n",
      " a better experience. If not installed, the CLI will use the default input      \n",
      " method. To exit the labeling process, press `Ctrl + C`.                        \n",
      "                                                                                \n",
      "\u001b[2m╭─\u001b[0m\u001b[2m Options \u001b[0m\u001b[2m───────────────────────────────────────────────────────────────────\u001b[0m\u001b[2m─╮\u001b[0m\n",
      "\u001b[2m│\u001b[0m \u001b[1;36m-\u001b[0m\u001b[1;36m-templates\u001b[0m\u001b[1;36m-file\u001b[0m                \u001b[1;33mTEXT\u001b[0m  \u001b[2m[default: data/jailbreak_prompts.csv]\u001b[0m  \u001b[2m│\u001b[0m\n",
      "\u001b[2m│\u001b[0m \u001b[1;36m-\u001b[0m\u001b[1;36m-templates\u001b[0m\u001b[1;36m-labeled-file\u001b[0m        \u001b[1;33mTEXT\u001b[0m  \u001b[2m[default:                             \u001b[0m \u001b[2m│\u001b[0m\n",
      "\u001b[2m│\u001b[0m                                       \u001b[2mdata/jailbreak_prompts_labeled.csv]   \u001b[0m \u001b[2m│\u001b[0m\n",
      "\u001b[2m│\u001b[0m \u001b[1;36m-\u001b[0m\u001b[1;36m-help\u001b[0m                          \u001b[1;33m    \u001b[0m  Show this message and exit.            \u001b[2m│\u001b[0m\n",
      "\u001b[2m╰──────────────────────────────────────────────────────────────────────────────╯\u001b[0m\n",
      "\n"
     ]
    }
   ],
   "source": [
    "!./labellor.py --help"
   ]
  },
  {
   "cell_type": "markdown",
   "metadata": {},
   "source": [
    "When labeling the data, one sees how hard it is to establish to which\n",
    "category it actually belongs. Many templates are of the form 'please pretend to\n",
    "be _some persona_ who does not care about morals and ethics...' which both\n",
    "exploits the model's tendency to be helpful and complacent and the change in\n",
    "context where safety training has occurred. I'm not sure what to categorize\n",
    "these as and they seem to use both failure modes which wouldn't be a problem,\n",
    "save the fact that this is by far the most common way of jailbreaking.\n",
    "\n",
    "Before I go about chasing this kind of blurry line, I should investigate\n",
    "extremes. I'll therefore use another set of adversarial examples for now and\n",
    "come back to this later."
   ]
  },
  {
   "cell_type": "markdown",
   "metadata": {},
   "source": [
    "#### Fine-Tuning BeRT for Labeling\n",
    "\n",
    "Assuming we have a few-shot labeled dataset available, we can now continue to\n",
    "fine-tuner a BeRT model to see how hard such a task is to perform. If this works\n",
    "reliably, I could use this to save a significant amount of work."
   ]
  },
  {
   "cell_type": "code",
   "execution_count": 36,
   "metadata": {},
   "outputs": [],
   "source": [
    "# Coming soon"
   ]
  },
  {
   "cell_type": "markdown",
   "metadata": {},
   "source": [
    "### Universal and Transferable Adversarial Attacks on Aligned Language Models\n",
    "\n",
    "This is a method for generatic adversarial examples specifically for LLaM\n",
    "models. It's based on strategically generating suffixes to circumvent safety\n",
    "training. The main failure mode is clearly mismatched generalization. While it\n",
    "is easy to categorize and, in principle, easy to run, it's specifically made for\n",
    "LLaMA and rewriting part of the code base to BeRT might not be worth it."
   ]
  },
  {
   "cell_type": "code",
   "execution_count": null,
   "metadata": {},
   "outputs": [],
   "source": [
    "# Coming soon"
   ]
  },
  {
   "cell_type": "markdown",
   "metadata": {},
   "source": []
  }
 ],
 "metadata": {
  "kernelspec": {
   "display_name": "ifh",
   "language": "python",
   "name": "python3"
  },
  "language_info": {
   "codemirror_mode": {
    "name": "ipython",
    "version": 3
   },
   "file_extension": ".py",
   "mimetype": "text/x-python",
   "name": "python",
   "nbconvert_exporter": "python",
   "pygments_lexer": "ipython3",
   "version": "3.12.2"
  }
 },
 "nbformat": 4,
 "nbformat_minor": 2
}
