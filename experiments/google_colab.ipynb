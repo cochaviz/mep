{
 "cells": [
  {
   "cell_type": "markdown",
   "metadata": {},
   "source": [
    "# Google Colab\n",
    "\n",
    "Jupyter notebook setting up Google Colab to work as a remote Jupyter server and\n",
    "installs some QoL goodies."
   ]
  },
  {
   "cell_type": "markdown",
   "metadata": {},
   "source": [
    "## Use Google Colab as a Jupyter Notebook Server"
   ]
  },
  {
   "cell_type": "code",
   "execution_count": null,
   "metadata": {},
   "outputs": [],
   "source": [
    "async def expose_jupyter_server(expose=False):\n",
    "    \"\"\"\n",
    "    Expose Jupyter server running on Google Colab via ngrok. Not executed by\n",
    "    default to avoid exposing the server unintentionally. To expose the server,\n",
    "    set `expose` to `True` and call the function.\n",
    "    \"\"\"\n",
    "    if not expose:\n",
    "        print(\"Not exposing Jupyter server.\")\n",
    "        return\n",
    "    \n",
    "    try:\n",
    "        from google.colab import userdata\n",
    "        import re\n",
    "    except ImportError:\n",
    "        print(\"Not running on Google Colab! Not exposing Jupyter server.\")\n",
    "        return\n",
    "\n",
    "    # Install jupyterlab and ngrok\n",
    "    !pip install jupyterlab==2.2.9 ngrok -q\n",
    "\n",
    "    # Run jupyterlab in background\n",
    "    !nohup jupyter lab --no-browser --port=8888 --ip=0.0.0.0 &\n",
    "\n",
    "    with open(\"nohup.out\", \"r\") as file:\n",
    "        match = None\n",
    "        while not match:\n",
    "            content = file.read()\n",
    "            match = re.findall(\"\\?token=.*\", content)\n",
    "        token = match[-1]\n",
    "\n",
    "    # Make jupyterlab accessible via ngrok\n",
    "    import ngrok\n",
    "\n",
    "    listener = await ngrok.forward(\n",
    "        8888, \n",
    "        # domain=userdata.get('NGROKDOMAIN'), \n",
    "        authtoken=userdata.get(\"NGROKTOKEN\")\n",
    "    )\n",
    "    print(\"Connect to URL:\", listener.url() + token)\n",
    "\n",
    "await expose_jupyter_server(expose=True)"
   ]
  },
  {
   "cell_type": "markdown",
   "metadata": {},
   "source": [
    "## Automatically Use and Install Conda if in Google Colab"
   ]
  },
  {
   "cell_type": "code",
   "execution_count": null,
   "metadata": {},
   "outputs": [],
   "source": [
    "import sys\n",
    "import shutil\n",
    "\n",
    "def has_conda():\n",
    "    return shutil.which(\"conda\") is not None\n",
    "\n",
    "def install_conda():\n",
    "    !pip install -q condacolab\n",
    "    import condacolab\n",
    "    condacolab.install()\n",
    "\n",
    "if not has_conda():\n",
    "    if \"google.colab\" in sys.modules:\n",
    "        install_conda()\n",
    "    else:\n",
    "        raise RuntimeError(\"\"\"\n",
    "            Conda not found, and cannot be automatically installed unless\n",
    "            in a Google Colab environment. Please install conda or launch\n",
    "            in Google Colab.\n",
    "        \"\"\")"
   ]
  },
  {
   "cell_type": "markdown",
   "metadata": {},
   "source": [
    "## Prevent Google Colab from Disconnecting\n",
    "\n",
    "To prevent google colab from quitting when an experiment is running, you can add\n",
    "enter the following code in the _developer console_ (Ctrl+Shift+I in Google Chrome):\n",
    "\n",
    "```javascript\n",
    "var startClickConnect = function startClickConnect(){\n",
    "    var clickConnect = function clickConnect(){\n",
    "        console.log(\"Connnect Clicked - Start\");\n",
    "        document.querySelector(\"#top-toolbar > colab-connect-button\").shadowRoot.querySelector(\"#connect\").click();\n",
    "        console.log(\"Connnect Clicked - End\"); \n",
    "    };\n",
    "\n",
    "    var intervalId = setInterval(clickConnect, 60000);\n",
    "\n",
    "    var stopClickConnectHandler = function stopClickConnect() {\n",
    "        console.log(\"Connnect Clicked Stopped - Start\");\n",
    "        clearInterval(intervalId);\n",
    "        console.log(\"Connnect Clicked Stopped - End\");\n",
    "    };\n",
    "\n",
    "    return stopClickConnectHandler;\n",
    "};\n",
    "\n",
    "var stopClickConnect = startClickConnect();\n",
    "```\n",
    "\n",
    "In order to stop, call:\n",
    "\n",
    "```javascript\n",
    "stopClickConnect();\n",
    "```\n",
    "\n",
    "Source: https://stackoverflow.com/questions/57113226/how-can-i-prevent-google-colab-from-disconnecting"
   ]
  },
  {
   "cell_type": "markdown",
   "metadata": {},
   "source": []
  }
 ],
 "metadata": {
  "language_info": {
   "name": "python"
  }
 },
 "nbformat": 4,
 "nbformat_minor": 2
}
