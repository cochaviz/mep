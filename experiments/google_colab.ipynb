{
 "cells": [
  {
   "cell_type": "markdown",
   "metadata": {},
   "source": [
    "# Google Colab\n",
    "\n",
    "Jupyter notebook setting up Google Colab to work as a remote Jupyter server and\n",
    "installs some QoL goodies."
   ]
  },
  {
   "cell_type": "code",
   "execution_count": null,
   "metadata": {},
   "outputs": [],
   "source": [
    "async def expose_jupyter_server(expose=False):\n",
    "    \"\"\"\n",
    "    Expose Jupyter server running on Google Colab via ngrok. Not executed by\n",
    "    default to avoid exposing the server unintentionally. To expose the server,\n",
    "    set `expose` to `True` and call the function.\n",
    "    \"\"\"\n",
    "    if not expose:\n",
    "        print(\"Not exposing Jupyter server.\")\n",
    "        return\n",
    "    \n",
    "    try:\n",
    "        from google.colab import userdata\n",
    "        import re\n",
    "    except ImportError:\n",
    "        print(\"Not running on Google Colab! Not exposing Jupyter server.\")\n",
    "        return\n",
    "\n",
    "    # Install jupyterlab and ngrok\n",
    "    !pip install jupyterlab==2.2.9 ngrok -q\n",
    "\n",
    "    # Run jupyterlab in background\n",
    "    !nohup jupyter lab --no-browser --port=8888 --ip=0.0.0.0 &\n",
    "\n",
    "    with open(\"nohup.out\", \"r\") as file:\n",
    "        match = None\n",
    "        while not match:\n",
    "            content = file.read()\n",
    "            match = re.findall(\"\\?token=.*\", content)\n",
    "        token = match[-1]\n",
    "\n",
    "    # Make jupyterlab accessible via ngrok\n",
    "    import ngrok\n",
    "\n",
    "    listener = await ngrok.forward(\n",
    "        8888, \n",
    "        # domain=userdata.get('NGROKDOMAIN'), \n",
    "        authtoken=userdata.get(\"NGROKTOKEN\")\n",
    "    )\n",
    "    print(\"Connect to URL:\", listener.url() + token)\n",
    "\n",
    "await expose_jupyter_server(expose=True)"
   ]
  },
  {
   "cell_type": "code",
   "execution_count": null,
   "metadata": {},
   "outputs": [],
   "source": [
    "import os\n",
    "import sys\n",
    "\n",
    "def in_colab():\n",
    "    return \"google.colab\" in sys.modules\n",
    "\n",
    "# conda is required by default because we\n",
    "# can avoid clashing packages. Please use\n",
    "# a new environment for this project with\n",
    "# python 3.8. Exception is google colab\n",
    "# since it doesn't run with anything but\n",
    "# the default conda environment.\n",
    "if not in_colab():\n",
    "    assert os.environ[\"CONDA_DEFAULT_ENV\"] == \"ifh\"\n",
    "    assert sys.version_info[:2] == (3, 10)\n",
    "\n",
    "rng_seed = 42"
   ]
  },
  {
   "cell_type": "code",
   "execution_count": null,
   "metadata": {},
   "outputs": [],
   "source": [
    "import sys\n",
    "import shutil\n",
    "\n",
    "def has_conda():\n",
    "    return shutil.which(\"conda\") is not None\n",
    "\n",
    "def install_conda():\n",
    "    !pip install -q condacolab\n",
    "    import condacolab\n",
    "    condacolab.install()\n",
    "\n",
    "if not has_conda():\n",
    "    if \"google.colab\" in sys.modules:\n",
    "        install_conda()\n",
    "    else:\n",
    "        raise RuntimeError(\"\"\"\n",
    "            Conda not found, and cannot be automatically installed unless\n",
    "            in a Google Colab environment. Please install conda or launch\n",
    "            in Google Colab.\n",
    "        \"\"\")"
   ]
  }
 ],
 "metadata": {
  "language_info": {
   "name": "python"
  }
 },
 "nbformat": 4,
 "nbformat_minor": 2
}
